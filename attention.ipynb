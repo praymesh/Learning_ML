{
  "nbformat": 4,
  "nbformat_minor": 0,
  "metadata": {
    "colab": {
      "provenance": [],
      "authorship_tag": "ABX9TyM8aBxihOm8Avk+zzkICAee"
    },
    "kernelspec": {
      "name": "python3",
      "display_name": "Python 3"
    },
    "language_info": {
      "name": "python"
    }
  },
  "cells": [
    {
      "cell_type": "markdown",
      "source": [
        " **BUILDING ATTENTION FROM SCRATCH**LINK FOR THE PAPER -https://arxiv.org/pdf/1706.03762\n",
        "---\n",
        "\n"
      ],
      "metadata": {
        "id": "-0X6bzDde0eN"
      }
    },
    {
      "cell_type": "code",
      "execution_count": null,
      "metadata": {
        "id": "1CKmRQYUevdv"
      },
      "outputs": [],
      "source": []
    },
    {
      "cell_type": "code",
      "source": [],
      "metadata": {
        "id": "MtnP6oNdfVkE"
      },
      "execution_count": null,
      "outputs": []
    },
    {
      "cell_type": "code",
      "source": [],
      "metadata": {
        "id": "SEFLSyJrfVf8"
      },
      "execution_count": null,
      "outputs": []
    },
    {
      "cell_type": "code",
      "source": [],
      "metadata": {
        "id": "zqdUL0UefVJl"
      },
      "execution_count": null,
      "outputs": []
    }
  ]
}