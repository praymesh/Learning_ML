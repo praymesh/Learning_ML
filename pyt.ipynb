{
 "cells": [
  {
   "cell_type": "code",
   "execution_count": 1,
   "metadata": {},
   "outputs": [],
   "source": [
    "import torch\n",
    "import torch.nn as nn\n",
    "import torch.optim as optim\n",
    "import torch.nn.functional as F\n",
    "from torch.utils.data import DataLoader\n",
    "from torch.utils.data import Dataset\n",
    "import numpy as np\n",
    "import matplotlib.pyplot as plt\n",
    "#%pip install torch torchvision torhcaudio --extra-index-url https://download.pytorch.org/whl/cu117\n",
    "#Set-Location -Path \"C:\\Users\\prana\\OneDrive\\Documents\\WindowsPowerShell\\profile.ps1\"\n"
   ]
  },
  {
   "cell_type": "code",
   "execution_count": 2,
   "metadata": {},
   "outputs": [
    {
     "name": "stdout",
     "output_type": "stream",
     "text": [
      "Is GPU available: True\n",
      "Number of GPUs available: 1\n",
      "GPU Name: NVIDIA GeForce RTX 3050 Laptop GPU\n",
      "2.5.1+cu118\n"
     ]
    }
   ],
   "source": [
    "\n",
    "# Check if GPU is available #cuda setup\n",
    "gpu_available = torch.cuda.is_available()\n",
    "print(f\"Is GPU available: {gpu_available}\")\n",
    "if gpu_available:\n",
    "    gpu_count = torch.cuda.device_count()\n",
    "    gpu_name = torch.cuda.get_device_name(0)\n",
    "    print(f\"Number of GPUs available: {gpu_count}\")\n",
    "    print(f\"GPU Name: {gpu_name}\")\n",
    "    #print(f\"Current GPU Memory Allocated: {torch.cuda.memory_allocated(0)}\")\n",
    "    print(torch.__version__) #python 3.12.7 version installed environemnt-myenvt"
   ]
  },
  {
   "cell_type": "code",
   "execution_count": 3,
   "metadata": {},
   "outputs": [
    {
     "name": "stdout",
     "output_type": "stream",
     "text": [
      "cuda\n"
     ]
    }
   ],
   "source": [
    "device = torch.device(\"cuda\" if torch.cuda.is_available() else \"cpu\")\n",
    "print(device)\n"
   ]
  },
  {
   "cell_type": "markdown",
   "metadata": {},
   "source": [
    "# LEARNING PYTORCH\n"
   ]
  },
  {
   "cell_type": "code",
   "execution_count": 4,
   "metadata": {},
   "outputs": [
    {
     "name": "stdout",
     "output_type": "stream",
     "text": [
      "tensor([[1, 2],\n",
      "        [3, 4]])\n",
      "tensor([[5, 6],\n",
      "        [7, 8]])\n",
      "tensor([[ 5, 12],\n",
      "        [21, 32]])\n",
      "tensor([[19, 22],\n",
      "        [43, 50]])\n",
      "CPU times: total: 15.6 ms\n",
      "Wall time: 42.6 ms\n"
     ]
    }
   ],
   "source": [
    "%%time\n",
    "#matrix multiplication\n",
    "a = torch.tensor([[1,2],[3,4]]) #2x2\n",
    "b = torch.tensor([[5,6],[7,8]]) #2x2\n",
    "print(a)\n",
    "print(b)\n",
    "print(a*b) #element wise multiplication\n",
    "#dot pdt of 2 matrices\n",
    "\n",
    "tensor = torch.matmul(a,b) #or torch.mm(a,b)\n",
    "print(tensor)"
   ]
  },
  {
   "cell_type": "code",
   "execution_count": 5,
   "metadata": {},
   "outputs": [],
   "source": [
    "#%pip install scikit-learn\n",
    "from sklearn.datasets import make_circles #importing the dataset"
   ]
  },
  {
   "cell_type": "code",
   "execution_count": 6,
   "metadata": {},
   "outputs": [
    {
     "name": "stdout",
     "output_type": "stream",
     "text": [
      "(1000, 2)\n",
      "(1000,)\n",
      "[[ 0.75424625  0.23148074]\n",
      " [-0.75615888  0.15325888]\n",
      " [-0.81539193  0.17328203]\n",
      " [-0.39373073  0.69288277]\n",
      " [ 0.44220765 -0.89672343]]\n",
      "[1 1 1 1 0]\n"
     ]
    }
   ],
   "source": [
    "Dataset = make_circles(n_samples=1000, noise=0.03, random_state=42) #generating the dataset\n",
    "y_label = Dataset[1]\n",
    "x_label = Dataset[0]\n",
    "print(x_label.shape)\n",
    "print(y_label.shape)\n",
    "print(x_label[:5])\n",
    "print(y_label[:5])\n",
    " "
   ]
  },
  {
   "cell_type": "code",
   "execution_count": 7,
   "metadata": {},
   "outputs": [
    {
     "data": {
      "text/html": [
       "<div>\n",
       "<style scoped>\n",
       "    .dataframe tbody tr th:only-of-type {\n",
       "        vertical-align: middle;\n",
       "    }\n",
       "\n",
       "    .dataframe tbody tr th {\n",
       "        vertical-align: top;\n",
       "    }\n",
       "\n",
       "    .dataframe thead th {\n",
       "        text-align: right;\n",
       "    }\n",
       "</style>\n",
       "<table border=\"1\" class=\"dataframe\">\n",
       "  <thead>\n",
       "    <tr style=\"text-align: right;\">\n",
       "      <th></th>\n",
       "      <th>X1</th>\n",
       "      <th>X2</th>\n",
       "      <th>Y1</th>\n",
       "    </tr>\n",
       "  </thead>\n",
       "  <tbody>\n",
       "    <tr>\n",
       "      <th>0</th>\n",
       "      <td>0.754246</td>\n",
       "      <td>0.231481</td>\n",
       "      <td>1</td>\n",
       "    </tr>\n",
       "    <tr>\n",
       "      <th>1</th>\n",
       "      <td>-0.756159</td>\n",
       "      <td>0.153259</td>\n",
       "      <td>1</td>\n",
       "    </tr>\n",
       "    <tr>\n",
       "      <th>2</th>\n",
       "      <td>-0.815392</td>\n",
       "      <td>0.173282</td>\n",
       "      <td>1</td>\n",
       "    </tr>\n",
       "    <tr>\n",
       "      <th>3</th>\n",
       "      <td>-0.393731</td>\n",
       "      <td>0.692883</td>\n",
       "      <td>1</td>\n",
       "    </tr>\n",
       "    <tr>\n",
       "      <th>4</th>\n",
       "      <td>0.442208</td>\n",
       "      <td>-0.896723</td>\n",
       "      <td>0</td>\n",
       "    </tr>\n",
       "  </tbody>\n",
       "</table>\n",
       "</div>"
      ],
      "text/plain": [
       "         X1        X2  Y1\n",
       "0  0.754246  0.231481   1\n",
       "1 -0.756159  0.153259   1\n",
       "2 -0.815392  0.173282   1\n",
       "3 -0.393731  0.692883   1\n",
       "4  0.442208 -0.896723   0"
      ]
     },
     "execution_count": 7,
     "metadata": {},
     "output_type": "execute_result"
    }
   ],
   "source": [
    "import pandas as pd\n",
    "circles = pd.DataFrame(data= {\"X1\": x_label[:, 0], \"X2\": x_label[:, 1], \"Y1\": y_label}, columns=['X1', 'X2', 'Y1'])\n",
    "circles.head()"
   ]
  },
  {
   "cell_type": "code",
   "execution_count": 8,
   "metadata": {},
   "outputs": [
    {
     "data": {
      "text/plain": [
       "<matplotlib.collections.PathCollection at 0x20033c03fb0>"
      ]
     },
     "execution_count": 8,
     "metadata": {},
     "output_type": "execute_result"
    },
    {
     "data": {
      "image/png": "[encoded data removed]",
      "text/plain": [
       "<Figure size 640x480 with 1 Axes>"
      ]
     },
     "metadata": {},
     "output_type": "display_data"
    }
   ],
   "source": [
    "x_label = torch.tensor(x_label).float()\n",
    "y_label = torch.tensor(y_label).float() #converting to tensor\n",
    "plt.scatter(x= x_label[:, 0], y= x_label[:, 1], c= y_label, cmap='RdYlBu')"
   ]
  },
  {
   "cell_type": "code",
   "execution_count": 9,
   "metadata": {},
   "outputs": [
    {
     "data": {
      "text/plain": [
       "(torch.Size([200, 2]),\n",
       " torch.Size([200]),\n",
       " torch.Size([800, 2]),\n",
       " torch.Size([800]))"
      ]
     },
     "execution_count": 9,
     "metadata": {},
     "output_type": "execute_result"
    }
   ],
   "source": [
    "from sklearn.model_selection import train_test_split\n",
    "x_train, x_test, y_train, y_test = train_test_split(x_label, y_label, test_size=0.2, random_state=42) \n",
    "x_test.shape , y_test.shape , x_train.shape, y_train.shape\n"
   ]
  },
  {
   "cell_type": "code",
   "execution_count": 10,
   "metadata": {},
   "outputs": [
    {
     "data": {
      "text/plain": [
       "tensor([[ 0.6579, -0.4651],\n",
       "        [ 0.6319, -0.7347],\n",
       "        [-1.0086, -0.1240],\n",
       "        ...,\n",
       "        [ 0.0157, -1.0300],\n",
       "        [ 1.0110,  0.1680],\n",
       "        [ 0.5578, -0.5709]])"
      ]
     },
     "execution_count": 10,
     "metadata": {},
     "output_type": "execute_result"
    }
   ],
   "source": [
    "x_train"
   ]
  },
  {
   "cell_type": "markdown",
   "metadata": {},
   "source": [
    "#creating subclass of nn.modeule\n",
    "#creating layers and forward pass  \n",
    "#creating optimizer and loss function  \n",
    "#training the model  \n",
    "#evaluating the model  \n",
    "#plotting the decision boundary  \n",
    "#creating a model class"
   ]
  },
  {
   "cell_type": "code",
   "execution_count": 11,
   "metadata": {},
   "outputs": [],
   "source": [
    "\n",
    "class CicleModelV0(nn.Module):\n",
    "    def __init__(self):\n",
    "        super().__init__() #we dont need to pass this as a fuction\n",
    "#In Python 3, the super() function can be called without explicitly passing self. you don't need super(ClassName, self).__init__()\n",
    "            #input layer\n",
    "        self.layer1  = nn.Linear(2, 5)\n",
    "            #hidden layer\n",
    "            #self.layer2 = nn.Linear(, 100)\n",
    "            #output layer\n",
    "        self.layer2 = nn.Linear(5,1)\n",
    "    def forward(self, x):\n",
    "        return self.layer2(self.layer1(x))"
   ]
  },
  {
   "cell_type": "code",
   "execution_count": 12,
   "metadata": {},
   "outputs": [
    {
     "name": "stdout",
     "output_type": "stream",
     "text": [
      "cuda\n"
     ]
    },
    {
     "data": {
      "text/plain": [
       "CicleModelV0(\n",
       "  (layer1): Linear(in_features=2, out_features=5, bias=True)\n",
       "  (layer2): Linear(in_features=5, out_features=1, bias=True)\n",
       ")"
      ]
     },
     "execution_count": 12,
     "metadata": {},
     "output_type": "execute_result"
    }
   ],
   "source": [
    "model_0 = CicleModelV0().to(device)\n",
    "print(device)\n",
    "model_0"
   ]
  },
  {
   "cell_type": "code",
   "execution_count": 13,
   "metadata": {},
   "outputs": [
    {
     "data": {
      "text/plain": [
       "Sequential(\n",
       "  (0): Linear(in_features=2, out_features=5, bias=True)\n",
       "  (1): Linear(in_features=5, out_features=1, bias=True)\n",
       ")"
      ]
     },
     "execution_count": 13,
     "metadata": {},
     "output_type": "execute_result"
    }
   ],
   "source": [
    "#nn.sequential does everything that we did in the above cell\n",
    "model_0 = nn.Sequential(\n",
    "    nn.Linear(2, 5),\n",
    "    nn.Linear(5, 1)\n",
    ").to(device)\n",
    "\n",
    "model_0  #same output as above cell\n"
   ]
  },
  {
   "cell_type": "code",
   "execution_count": 14,
   "metadata": {},
   "outputs": [
    {
     "data": {
      "text/plain": [
       "OrderedDict([('0.weight',\n",
       "              tensor([[ 0.0963, -0.4968],\n",
       "                      [ 0.6406,  0.4241],\n",
       "                      [ 0.6592, -0.6911],\n",
       "                      [-0.3823, -0.1467],\n",
       "                      [-0.4497,  0.2952]], device='cuda:0')),\n",
       "             ('0.bias',\n",
       "              tensor([0.6589, 0.5634, 0.1992, 0.6275, 0.0052], device='cuda:0')),\n",
       "             ('1.weight',\n",
       "              tensor([[-0.2034, -0.2381,  0.1961,  0.2607,  0.0876]], device='cuda:0')),\n",
       "             ('1.bias', tensor([-0.3697], device='cuda:0'))])"
      ]
     },
     "execution_count": 14,
     "metadata": {},
     "output_type": "execute_result"
    }
   ],
   "source": [
    "#looking at wts and biases\n",
    "model_0.state_dict() #gives the weights and biases of the model in the form of a dictionary "
   ]
  },
  {
   "cell_type": "code",
   "execution_count": 15,
   "metadata": {},
   "outputs": [
    {
     "data": {
      "text/plain": [
       "tensor([[-0.4857],\n",
       "        [-0.4411],\n",
       "        [-0.2329],\n",
       "        [-0.2255],\n",
       "        [-0.5226]], device='cuda:0', grad_fn=<SliceBackward0>)"
      ]
     },
     "execution_count": 15,
     "metadata": {},
     "output_type": "execute_result"
    }
   ],
   "source": [
    "#make predictions\n",
    "x_train = x_train.to(device)\n",
    "y_pred = model_0(x_train)\n",
    "y_pred[:5]\n"
   ]
  },
  {
   "cell_type": "code",
   "execution_count": 16,
   "metadata": {},
   "outputs": [],
   "source": [
    "loss_fn = nn.BCEWithLogitsLoss() #binary cross entropy loss , includes sigmoid activation function in it\n",
    "optimizer = torch.optim.SGD(model_0.parameters(), lr=0.1) #stochastic gradient descent\n"
   ]
  },
  {
   "cell_type": "code",
   "execution_count": 17,
   "metadata": {},
   "outputs": [],
   "source": [
    "def accuray(y_true, y_pred):\n",
    "    correct =torch.eq(y_pred, y_true).sum().item() #eq is element wise comparison\n",
    "    return correct/y_true.shape[0]"
   ]
  },
  {
   "cell_type": "markdown",
   "metadata": {},
   "source": [
    "#Training a MODE-->\n",
    "Forward PAss-->\n",
    "Cal Loss-->\n",
    "Optimizer Zero Grad-->\n",
    "Loss Backward-->\n",
    "Grad Descnt"
   ]
  },
  {
   "cell_type": "markdown",
   "metadata": {},
   "source": [
    "logit is raw ouptput-->logits into prediction probab--> labels using argmax"
   ]
  },
  {
   "cell_type": "code",
   "execution_count": 18,
   "metadata": {},
   "outputs": [],
   "source": [
    "with torch.inference_mode(): #turning off the gradient\n",
    "    y_pred = model_0(x_test.to(device))\n",
    "    "
   ]
  },
  {
   "cell_type": "code",
   "execution_count": 19,
   "metadata": {},
   "outputs": [],
   "source": [
    "class Model3(nn.Module):\n",
    "    def __init__(self): \n",
    "        super().__init__()\n",
    "        self.layer1 = nn.Linear(2, 10)\n",
    "        self.layer2 = nn.Linear(10, 10)\n",
    "        self.layer3 = nn.Linear(10, 1)\n",
    "        self.relu = nn.ReLU()\n",
    "\n",
    "    def forward(self, x):\n",
    "        return self.layer3(self.layer2(self.layer1(x)))"
   ]
  },
  {
   "cell_type": "code",
   "execution_count": 20,
   "metadata": {},
   "outputs": [
    {
     "data": {
      "text/plain": [
       "Model3(\n",
       "  (layer1): Linear(in_features=2, out_features=10, bias=True)\n",
       "  (layer2): Linear(in_features=10, out_features=10, bias=True)\n",
       "  (layer3): Linear(in_features=10, out_features=1, bias=True)\n",
       "  (relu): ReLU()\n",
       ")"
      ]
     },
     "execution_count": 20,
     "metadata": {},
     "output_type": "execute_result"
    }
   ],
   "source": [
    "model_3 =Model3().to(device)\n",
    "model_3"
   ]
  },
  {
   "cell_type": "code",
   "execution_count": null,
   "metadata": {},
   "outputs": [],
   "source": []
  }
 ],
 "metadata": {
  "kernelspec": {
   "display_name": "myenvt",
   "language": "python",
   "name": "python3"
  },
  "language_info": {
   "codemirror_mode": {
    "name": "ipython",
    "version": 3
   },
   "file_extension": ".py",
   "mimetype": "text/x-python",
   "name": "python",
   "nbconvert_exporter": "python",
   "pygments_lexer": "ipython3",
   "version": "3.12.7"
  }
 },
 "nbformat": 4,
 "nbformat_minor": 2
}
